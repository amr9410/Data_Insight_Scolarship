{
  "nbformat": 4,
  "nbformat_minor": 0,
  "metadata": {
    "colab": {
      "name": "Data Visualization in Python. Ipynb",
      "provenance": [],
      "collapsed_sections": [],
      "authorship_tag": "ABX9TyOCEnZMnLxYpekYKDTp44Sy",
      "include_colab_link": true
    },
    "kernelspec": {
      "name": "python3",
      "display_name": "Python 3"
    },
    "language_info": {
      "name": "python"
    }
  },
  "cells": [
    {
      "cell_type": "markdown",
      "metadata": {
        "id": "view-in-github",
        "colab_type": "text"
      },
      "source": [
        "<a href=\"https://colab.research.google.com/github/amr9410/Data_Insight_Scolarship/blob/main/Data_Visualization_in_Python_Ipynb.ipynb\" target=\"_parent\"><img src=\"https://colab.research.google.com/assets/colab-badge.svg\" alt=\"Open In Colab\"/></a>"
      ]
    },
    {
      "cell_type": "markdown",
      "source": [
        "# Content:\n",
        "•\tWhat is Data Visualization?\n",
        "\n",
        "•\tUseful packages for visualizations in python.\n",
        "\n",
        "•\tHow to use the right visualization?\n",
        "\n",
        "*   Line Charts\n",
        "*   Bar Graphs\n",
        "*   Histograms\n",
        "*   Scatter Plots\n",
        "\n"
      ],
      "metadata": {
        "id": "h1Onj7OW8C1s"
      }
    },
    {
      "cell_type": "code",
      "execution_count": 28,
      "metadata": {
        "id": "q8OYArkg6oPV"
      },
      "outputs": [],
      "source": [
        "# import required libraries\n",
        "import numpy as np\n",
        "import pandas as pd \n",
        "import matplotlib.pyplot as plt \n",
        "import seaborn as sns \n",
        "import io"
      ]
    },
    {
      "cell_type": "code",
      "source": [
        "#load the data\n",
        "from google.colab import files\n",
        " \n",
        " \n",
        "uploaded = files.upload()\n"
      ],
      "metadata": {
        "colab": {
          "base_uri": "https://localhost:8080/",
          "height": 73,
          "resources": {
            "http://localhost:8080/nbextensions/google.colab/files.js": {
              "data": "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",
              "ok": true,
              "headers": [
                [
                  "content-type",
                  "application/javascript"
                ]
              ],
              "status": 200,
              "status_text": ""
            }
          }
        },
        "id": "X6SjubDcNE9j",
        "outputId": "a16304ce-2802-425c-d0bb-356bf1def401"
      },
      "execution_count": 29,
      "outputs": [
        {
          "output_type": "display_data",
          "data": {
            "text/plain": [
              "<IPython.core.display.HTML object>"
            ],
            "text/html": [
              "\n",
              "     <input type=\"file\" id=\"files-f81e91b7-9278-4252-a0be-632ca95f9384\" name=\"files[]\" multiple disabled\n",
              "        style=\"border:none\" />\n",
              "     <output id=\"result-f81e91b7-9278-4252-a0be-632ca95f9384\">\n",
              "      Upload widget is only available when the cell has been executed in the\n",
              "      current browser session. Please rerun this cell to enable.\n",
              "      </output>\n",
              "      <script src=\"/nbextensions/google.colab/files.js\"></script> "
            ]
          },
          "metadata": {}
        },
        {
          "output_type": "stream",
          "name": "stdout",
          "text": [
            "Saving countries_of_the_world.csv to countries_of_the_world (3).csv\n"
          ]
        }
      ]
    },
    {
      "cell_type": "code",
      "source": [
        "\n",
        "df = pd.read_csv(io.BytesIO(uploaded['countries_of_the_world.csv']))\n",
        "df.info()"
      ],
      "metadata": {
        "colab": {
          "base_uri": "https://localhost:8080/"
        },
        "id": "bLiA_8qwnR_x",
        "outputId": "76700592-47c9-4cd5-9ba3-c6ef957524ec"
      },
      "execution_count": 30,
      "outputs": [
        {
          "output_type": "stream",
          "name": "stdout",
          "text": [
            "<class 'pandas.core.frame.DataFrame'>\n",
            "RangeIndex: 227 entries, 0 to 226\n",
            "Data columns (total 20 columns):\n",
            " #   Column                              Non-Null Count  Dtype  \n",
            "---  ------                              --------------  -----  \n",
            " 0   Country                             227 non-null    object \n",
            " 1   Region                              227 non-null    object \n",
            " 2   Population                          227 non-null    int64  \n",
            " 3   Area (sq. mi.)                      227 non-null    int64  \n",
            " 4   Pop. Density (per sq. mi.)          227 non-null    object \n",
            " 5   Coastline (coast/area ratio)        227 non-null    object \n",
            " 6   Net migration                       224 non-null    object \n",
            " 7   Infant mortality (per 1000 births)  224 non-null    object \n",
            " 8   GDP ($ per capita)                  226 non-null    float64\n",
            " 9   Literacy (%)                        209 non-null    object \n",
            " 10  Phones (per 1000)                   223 non-null    object \n",
            " 11  Arable (%)                          225 non-null    object \n",
            " 12  Crops (%)                           225 non-null    object \n",
            " 13  Other (%)                           225 non-null    object \n",
            " 14  Climate                             205 non-null    object \n",
            " 15  Birthrate                           224 non-null    object \n",
            " 16  Deathrate                           223 non-null    object \n",
            " 17  Agriculture                         212 non-null    object \n",
            " 18  Industry                            211 non-null    object \n",
            " 19  Service                             212 non-null    object \n",
            "dtypes: float64(1), int64(2), object(17)\n",
            "memory usage: 35.6+ KB\n"
          ]
        }
      ]
    },
    {
      "cell_type": "code",
      "source": [
        "df.isnull().sum()"
      ],
      "metadata": {
        "colab": {
          "base_uri": "https://localhost:8080/"
        },
        "id": "AyEbG6NaeDgW",
        "outputId": "a47908ba-7e15-4912-efac-8f8632e086f4"
      },
      "execution_count": 31,
      "outputs": [
        {
          "output_type": "execute_result",
          "data": {
            "text/plain": [
              "Country                                0\n",
              "Region                                 0\n",
              "Population                             0\n",
              "Area (sq. mi.)                         0\n",
              "Pop. Density (per sq. mi.)             0\n",
              "Coastline (coast/area ratio)           0\n",
              "Net migration                          3\n",
              "Infant mortality (per 1000 births)     3\n",
              "GDP ($ per capita)                     1\n",
              "Literacy (%)                          18\n",
              "Phones (per 1000)                      4\n",
              "Arable (%)                             2\n",
              "Crops (%)                              2\n",
              "Other (%)                              2\n",
              "Climate                               22\n",
              "Birthrate                              3\n",
              "Deathrate                              4\n",
              "Agriculture                           15\n",
              "Industry                              16\n",
              "Service                               15\n",
              "dtype: int64"
            ]
          },
          "metadata": {},
          "execution_count": 31
        }
      ]
    },
    {
      "cell_type": "code",
      "source": [
        "df2 = df.dropna()                 "
      ],
      "metadata": {
        "id": "miwJOZseb_KZ"
      },
      "execution_count": 32,
      "outputs": []
    },
    {
      "cell_type": "code",
      "source": [
        "df2.info()"
      ],
      "metadata": {
        "colab": {
          "base_uri": "https://localhost:8080/"
        },
        "id": "jGQDL6GrdGRP",
        "outputId": "2556f524-e97f-42a5-8abe-1470821e9e77"
      },
      "execution_count": 33,
      "outputs": [
        {
          "output_type": "stream",
          "name": "stdout",
          "text": [
            "<class 'pandas.core.frame.DataFrame'>\n",
            "Int64Index: 179 entries, 0 to 226\n",
            "Data columns (total 20 columns):\n",
            " #   Column                              Non-Null Count  Dtype  \n",
            "---  ------                              --------------  -----  \n",
            " 0   Country                             179 non-null    object \n",
            " 1   Region                              179 non-null    object \n",
            " 2   Population                          179 non-null    int64  \n",
            " 3   Area (sq. mi.)                      179 non-null    int64  \n",
            " 4   Pop. Density (per sq. mi.)          179 non-null    object \n",
            " 5   Coastline (coast/area ratio)        179 non-null    object \n",
            " 6   Net migration                       179 non-null    object \n",
            " 7   Infant mortality (per 1000 births)  179 non-null    object \n",
            " 8   GDP ($ per capita)                  179 non-null    float64\n",
            " 9   Literacy (%)                        179 non-null    object \n",
            " 10  Phones (per 1000)                   179 non-null    object \n",
            " 11  Arable (%)                          179 non-null    object \n",
            " 12  Crops (%)                           179 non-null    object \n",
            " 13  Other (%)                           179 non-null    object \n",
            " 14  Climate                             179 non-null    object \n",
            " 15  Birthrate                           179 non-null    object \n",
            " 16  Deathrate                           179 non-null    object \n",
            " 17  Agriculture                         179 non-null    object \n",
            " 18  Industry                            179 non-null    object \n",
            " 19  Service                             179 non-null    object \n",
            "dtypes: float64(1), int64(2), object(17)\n",
            "memory usage: 29.4+ KB\n"
          ]
        }
      ]
    },
    {
      "cell_type": "code",
      "source": [
        "df2.head(20)"
      ],
      "metadata": {
        "colab": {
          "base_uri": "https://localhost:8080/",
          "height": 1000
        },
        "id": "frIEUBiA56b6",
        "outputId": "1248f120-6247-473f-9c43-14c6807cb991"
      },
      "execution_count": 34,
      "outputs": [
        {
          "output_type": "execute_result",
          "data": {
            "text/plain": [
              "               Country                               Region  Population  \\\n",
              "0         Afghanistan         ASIA (EX. NEAR EAST)             31056997   \n",
              "1             Albania   EASTERN EUROPE                          3581655   \n",
              "2             Algeria   NORTHERN AFRICA                        32930091   \n",
              "6            Anguilla               LATIN AMER. & CARIB           13477   \n",
              "7   Antigua & Barbuda               LATIN AMER. & CARIB           69108   \n",
              "8           Argentina               LATIN AMER. & CARIB        39921833   \n",
              "9             Armenia                  C.W. OF IND. STATES      2976372   \n",
              "10              Aruba               LATIN AMER. & CARIB           71891   \n",
              "11          Australia   OCEANIA                                20264082   \n",
              "12            Austria   WESTERN EUROPE                          8192880   \n",
              "13         Azerbaijan                  C.W. OF IND. STATES      7961619   \n",
              "14       Bahamas, The               LATIN AMER. & CARIB          303770   \n",
              "15            Bahrain   NEAR EAST                                698585   \n",
              "16         Bangladesh         ASIA (EX. NEAR EAST)            147365352   \n",
              "17           Barbados               LATIN AMER. & CARIB          279912   \n",
              "18            Belarus                  C.W. OF IND. STATES     10293011   \n",
              "19            Belgium   WESTERN EUROPE                         10379067   \n",
              "20             Belize               LATIN AMER. & CARIB          287730   \n",
              "21              Benin   SUB-SAHARAN AFRICA                      7862944   \n",
              "22            Bermuda   NORTHERN AMERICA                          65773   \n",
              "\n",
              "    Area (sq. mi.) Pop. Density (per sq. mi.) Coastline (coast/area ratio)  \\\n",
              "0           647500                       48,0                         0,00   \n",
              "1            28748                      124,6                         1,26   \n",
              "2          2381740                       13,8                         0,04   \n",
              "6              102                      132,1                        59,80   \n",
              "7              443                      156,0                        34,54   \n",
              "8          2766890                       14,4                         0,18   \n",
              "9            29800                       99,9                         0,00   \n",
              "10             193                      372,5                        35,49   \n",
              "11         7686850                        2,6                         0,34   \n",
              "12           83870                       97,7                         0,00   \n",
              "13           86600                       91,9                         0,00   \n",
              "14           13940                       21,8                        25,41   \n",
              "15             665                     1050,5                        24,21   \n",
              "16          144000                     1023,4                         0,40   \n",
              "17             431                      649,5                        22,51   \n",
              "18          207600                       49,6                         0,00   \n",
              "19           30528                      340,0                         0,22   \n",
              "20           22966                       12,5                         1,68   \n",
              "21          112620                       69,8                         0,11   \n",
              "22              53                     1241,0                       194,34   \n",
              "\n",
              "   Net migration Infant mortality (per 1000 births)  GDP ($ per capita)  \\\n",
              "0          23,06                             163,07               700.0   \n",
              "1          -4,93                              21,52              4500.0   \n",
              "2          -0,39                                 31              6000.0   \n",
              "6          10,76                              21,03              8600.0   \n",
              "7          -6,15                              19,46             11000.0   \n",
              "8           0,61                              15,18             11200.0   \n",
              "9          -6,47                              23,28              3500.0   \n",
              "10             0                               5,89             28000.0   \n",
              "11          3,98                               4,69             29000.0   \n",
              "12             2                               4,66             30000.0   \n",
              "13          -4,9                              81,74              3400.0   \n",
              "14          -2,2                              25,21             16700.0   \n",
              "15          1,05                              17,27             16900.0   \n",
              "16         -0,71                               62,6              1900.0   \n",
              "17         -0,31                               12,5             15700.0   \n",
              "18          2,54                              13,37              6100.0   \n",
              "19          1,23                               4,68             29100.0   \n",
              "20             0                              25,69              4900.0   \n",
              "21             0                                 85              1100.0   \n",
              "22          2,49                               8,53             36000.0   \n",
              "\n",
              "   Literacy (%) Phones (per 1000) Arable (%) Crops (%) Other (%) Climate  \\\n",
              "0          36,0               3,2      12,13      0,22     87,65       1   \n",
              "1          86,5              71,2      21,09      4,42     74,49       3   \n",
              "2          70,0              78,1       3,22      0,25     96,53       1   \n",
              "6          95,0             460,0          0         0       100       2   \n",
              "7          89,0             549,9      18,18      4,55     77,27       2   \n",
              "8          97,1             220,4      12,31      0,48     87,21       3   \n",
              "9          98,6             195,7      17,55       2,3     80,15       4   \n",
              "10         97,0             516,1      10,53         0     89,47       2   \n",
              "11        100,0             565,5       6,55      0,04     93,41       1   \n",
              "12         98,0             452,2      16,91      0,86     82,23       3   \n",
              "13         97,0             137,1      19,63      2,71     77,66       1   \n",
              "14         95,6             460,6        0,8       0,4      98,8       2   \n",
              "15         89,1             281,3       2,82      5,63     91,55       1   \n",
              "16         43,1               7,3      62,11      3,07     34,82       2   \n",
              "17         97,4             481,9      37,21      2,33     60,46       2   \n",
              "18         99,6             319,1      29,55       0,6     69,85       4   \n",
              "19         98,0             462,6      23,28       0,4     76,32       3   \n",
              "20         94,1             115,7       2,85      1,71     95,44       2   \n",
              "21         40,9               9,7      18,08       2,4     79,52       2   \n",
              "22         98,0             851,4         20         0        80       2   \n",
              "\n",
              "   Birthrate Deathrate Agriculture Industry Service  \n",
              "0       46,6     20,34        0,38     0,24    0,38  \n",
              "1      15,11      5,22       0,232    0,188   0,579  \n",
              "2      17,14      4,61       0,101      0,6   0,298  \n",
              "6      14,17      5,34        0,04     0,18    0,78  \n",
              "7      16,93      5,37       0,038     0,22   0,743  \n",
              "8      16,73      7,55       0,095    0,358   0,547  \n",
              "9      12,07      8,23       0,239    0,343   0,418  \n",
              "10     11,03      6,68       0,004    0,333   0,663  \n",
              "11     12,14      7,51       0,038    0,262     0,7  \n",
              "12      8,74      9,76       0,018    0,304   0,678  \n",
              "13     20,74      9,75       0,141    0,457   0,402  \n",
              "14     17,57      9,05        0,03     0,07     0,9  \n",
              "15      17,8      4,14       0,005    0,387   0,608  \n",
              "16      29,8      8,27       0,199    0,198   0,603  \n",
              "17     12,71      8,67        0,06     0,16    0,78  \n",
              "18     11,16     14,02       0,093    0,316   0,591  \n",
              "19     10,38     10,27        0,01     0,24   0,749  \n",
              "20     28,84      5,72       0,142    0,152   0,612  \n",
              "21     38,85     12,22       0,316    0,138   0,546  \n",
              "22      11,4      7,74        0,01      0,1    0,89  "
            ],
            "text/html": [
              "\n",
              "  <div id=\"df-225b5660-8906-462e-82dd-0df241d17d79\">\n",
              "    <div class=\"colab-df-container\">\n",
              "      <div>\n",
              "<style scoped>\n",
              "    .dataframe tbody tr th:only-of-type {\n",
              "        vertical-align: middle;\n",
              "    }\n",
              "\n",
              "    .dataframe tbody tr th {\n",
              "        vertical-align: top;\n",
              "    }\n",
              "\n",
              "    .dataframe thead th {\n",
              "        text-align: right;\n",
              "    }\n",
              "</style>\n",
              "<table border=\"1\" class=\"dataframe\">\n",
              "  <thead>\n",
              "    <tr style=\"text-align: right;\">\n",
              "      <th></th>\n",
              "      <th>Country</th>\n",
              "      <th>Region</th>\n",
              "      <th>Population</th>\n",
              "      <th>Area (sq. mi.)</th>\n",
              "      <th>Pop. Density (per sq. mi.)</th>\n",
              "      <th>Coastline (coast/area ratio)</th>\n",
              "      <th>Net migration</th>\n",
              "      <th>Infant mortality (per 1000 births)</th>\n",
              "      <th>GDP ($ per capita)</th>\n",
              "      <th>Literacy (%)</th>\n",
              "      <th>Phones (per 1000)</th>\n",
              "      <th>Arable (%)</th>\n",
              "      <th>Crops (%)</th>\n",
              "      <th>Other (%)</th>\n",
              "      <th>Climate</th>\n",
              "      <th>Birthrate</th>\n",
              "      <th>Deathrate</th>\n",
              "      <th>Agriculture</th>\n",
              "      <th>Industry</th>\n",
              "      <th>Service</th>\n",
              "    </tr>\n",
              "  </thead>\n",
              "  <tbody>\n",
              "    <tr>\n",
              "      <th>0</th>\n",
              "      <td>Afghanistan</td>\n",
              "      <td>ASIA (EX. NEAR EAST)</td>\n",
              "      <td>31056997</td>\n",
              "      <td>647500</td>\n",
              "      <td>48,0</td>\n",
              "      <td>0,00</td>\n",
              "      <td>23,06</td>\n",
              "      <td>163,07</td>\n",
              "      <td>700.0</td>\n",
              "      <td>36,0</td>\n",
              "      <td>3,2</td>\n",
              "      <td>12,13</td>\n",
              "      <td>0,22</td>\n",
              "      <td>87,65</td>\n",
              "      <td>1</td>\n",
              "      <td>46,6</td>\n",
              "      <td>20,34</td>\n",
              "      <td>0,38</td>\n",
              "      <td>0,24</td>\n",
              "      <td>0,38</td>\n",
              "    </tr>\n",
              "    <tr>\n",
              "      <th>1</th>\n",
              "      <td>Albania</td>\n",
              "      <td>EASTERN EUROPE</td>\n",
              "      <td>3581655</td>\n",
              "      <td>28748</td>\n",
              "      <td>124,6</td>\n",
              "      <td>1,26</td>\n",
              "      <td>-4,93</td>\n",
              "      <td>21,52</td>\n",
              "      <td>4500.0</td>\n",
              "      <td>86,5</td>\n",
              "      <td>71,2</td>\n",
              "      <td>21,09</td>\n",
              "      <td>4,42</td>\n",
              "      <td>74,49</td>\n",
              "      <td>3</td>\n",
              "      <td>15,11</td>\n",
              "      <td>5,22</td>\n",
              "      <td>0,232</td>\n",
              "      <td>0,188</td>\n",
              "      <td>0,579</td>\n",
              "    </tr>\n",
              "    <tr>\n",
              "      <th>2</th>\n",
              "      <td>Algeria</td>\n",
              "      <td>NORTHERN AFRICA</td>\n",
              "      <td>32930091</td>\n",
              "      <td>2381740</td>\n",
              "      <td>13,8</td>\n",
              "      <td>0,04</td>\n",
              "      <td>-0,39</td>\n",
              "      <td>31</td>\n",
              "      <td>6000.0</td>\n",
              "      <td>70,0</td>\n",
              "      <td>78,1</td>\n",
              "      <td>3,22</td>\n",
              "      <td>0,25</td>\n",
              "      <td>96,53</td>\n",
              "      <td>1</td>\n",
              "      <td>17,14</td>\n",
              "      <td>4,61</td>\n",
              "      <td>0,101</td>\n",
              "      <td>0,6</td>\n",
              "      <td>0,298</td>\n",
              "    </tr>\n",
              "    <tr>\n",
              "      <th>6</th>\n",
              "      <td>Anguilla</td>\n",
              "      <td>LATIN AMER. &amp; CARIB</td>\n",
              "      <td>13477</td>\n",
              "      <td>102</td>\n",
              "      <td>132,1</td>\n",
              "      <td>59,80</td>\n",
              "      <td>10,76</td>\n",
              "      <td>21,03</td>\n",
              "      <td>8600.0</td>\n",
              "      <td>95,0</td>\n",
              "      <td>460,0</td>\n",
              "      <td>0</td>\n",
              "      <td>0</td>\n",
              "      <td>100</td>\n",
              "      <td>2</td>\n",
              "      <td>14,17</td>\n",
              "      <td>5,34</td>\n",
              "      <td>0,04</td>\n",
              "      <td>0,18</td>\n",
              "      <td>0,78</td>\n",
              "    </tr>\n",
              "    <tr>\n",
              "      <th>7</th>\n",
              "      <td>Antigua &amp; Barbuda</td>\n",
              "      <td>LATIN AMER. &amp; CARIB</td>\n",
              "      <td>69108</td>\n",
              "      <td>443</td>\n",
              "      <td>156,0</td>\n",
              "      <td>34,54</td>\n",
              "      <td>-6,15</td>\n",
              "      <td>19,46</td>\n",
              "      <td>11000.0</td>\n",
              "      <td>89,0</td>\n",
              "      <td>549,9</td>\n",
              "      <td>18,18</td>\n",
              "      <td>4,55</td>\n",
              "      <td>77,27</td>\n",
              "      <td>2</td>\n",
              "      <td>16,93</td>\n",
              "      <td>5,37</td>\n",
              "      <td>0,038</td>\n",
              "      <td>0,22</td>\n",
              "      <td>0,743</td>\n",
              "    </tr>\n",
              "    <tr>\n",
              "      <th>8</th>\n",
              "      <td>Argentina</td>\n",
              "      <td>LATIN AMER. &amp; CARIB</td>\n",
              "      <td>39921833</td>\n",
              "      <td>2766890</td>\n",
              "      <td>14,4</td>\n",
              "      <td>0,18</td>\n",
              "      <td>0,61</td>\n",
              "      <td>15,18</td>\n",
              "      <td>11200.0</td>\n",
              "      <td>97,1</td>\n",
              "      <td>220,4</td>\n",
              "      <td>12,31</td>\n",
              "      <td>0,48</td>\n",
              "      <td>87,21</td>\n",
              "      <td>3</td>\n",
              "      <td>16,73</td>\n",
              "      <td>7,55</td>\n",
              "      <td>0,095</td>\n",
              "      <td>0,358</td>\n",
              "      <td>0,547</td>\n",
              "    </tr>\n",
              "    <tr>\n",
              "      <th>9</th>\n",
              "      <td>Armenia</td>\n",
              "      <td>C.W. OF IND. STATES</td>\n",
              "      <td>2976372</td>\n",
              "      <td>29800</td>\n",
              "      <td>99,9</td>\n",
              "      <td>0,00</td>\n",
              "      <td>-6,47</td>\n",
              "      <td>23,28</td>\n",
              "      <td>3500.0</td>\n",
              "      <td>98,6</td>\n",
              "      <td>195,7</td>\n",
              "      <td>17,55</td>\n",
              "      <td>2,3</td>\n",
              "      <td>80,15</td>\n",
              "      <td>4</td>\n",
              "      <td>12,07</td>\n",
              "      <td>8,23</td>\n",
              "      <td>0,239</td>\n",
              "      <td>0,343</td>\n",
              "      <td>0,418</td>\n",
              "    </tr>\n",
              "    <tr>\n",
              "      <th>10</th>\n",
              "      <td>Aruba</td>\n",
              "      <td>LATIN AMER. &amp; CARIB</td>\n",
              "      <td>71891</td>\n",
              "      <td>193</td>\n",
              "      <td>372,5</td>\n",
              "      <td>35,49</td>\n",
              "      <td>0</td>\n",
              "      <td>5,89</td>\n",
              "      <td>28000.0</td>\n",
              "      <td>97,0</td>\n",
              "      <td>516,1</td>\n",
              "      <td>10,53</td>\n",
              "      <td>0</td>\n",
              "      <td>89,47</td>\n",
              "      <td>2</td>\n",
              "      <td>11,03</td>\n",
              "      <td>6,68</td>\n",
              "      <td>0,004</td>\n",
              "      <td>0,333</td>\n",
              "      <td>0,663</td>\n",
              "    </tr>\n",
              "    <tr>\n",
              "      <th>11</th>\n",
              "      <td>Australia</td>\n",
              "      <td>OCEANIA</td>\n",
              "      <td>20264082</td>\n",
              "      <td>7686850</td>\n",
              "      <td>2,6</td>\n",
              "      <td>0,34</td>\n",
              "      <td>3,98</td>\n",
              "      <td>4,69</td>\n",
              "      <td>29000.0</td>\n",
              "      <td>100,0</td>\n",
              "      <td>565,5</td>\n",
              "      <td>6,55</td>\n",
              "      <td>0,04</td>\n",
              "      <td>93,41</td>\n",
              "      <td>1</td>\n",
              "      <td>12,14</td>\n",
              "      <td>7,51</td>\n",
              "      <td>0,038</td>\n",
              "      <td>0,262</td>\n",
              "      <td>0,7</td>\n",
              "    </tr>\n",
              "    <tr>\n",
              "      <th>12</th>\n",
              "      <td>Austria</td>\n",
              "      <td>WESTERN EUROPE</td>\n",
              "      <td>8192880</td>\n",
              "      <td>83870</td>\n",
              "      <td>97,7</td>\n",
              "      <td>0,00</td>\n",
              "      <td>2</td>\n",
              "      <td>4,66</td>\n",
              "      <td>30000.0</td>\n",
              "      <td>98,0</td>\n",
              "      <td>452,2</td>\n",
              "      <td>16,91</td>\n",
              "      <td>0,86</td>\n",
              "      <td>82,23</td>\n",
              "      <td>3</td>\n",
              "      <td>8,74</td>\n",
              "      <td>9,76</td>\n",
              "      <td>0,018</td>\n",
              "      <td>0,304</td>\n",
              "      <td>0,678</td>\n",
              "    </tr>\n",
              "    <tr>\n",
              "      <th>13</th>\n",
              "      <td>Azerbaijan</td>\n",
              "      <td>C.W. OF IND. STATES</td>\n",
              "      <td>7961619</td>\n",
              "      <td>86600</td>\n",
              "      <td>91,9</td>\n",
              "      <td>0,00</td>\n",
              "      <td>-4,9</td>\n",
              "      <td>81,74</td>\n",
              "      <td>3400.0</td>\n",
              "      <td>97,0</td>\n",
              "      <td>137,1</td>\n",
              "      <td>19,63</td>\n",
              "      <td>2,71</td>\n",
              "      <td>77,66</td>\n",
              "      <td>1</td>\n",
              "      <td>20,74</td>\n",
              "      <td>9,75</td>\n",
              "      <td>0,141</td>\n",
              "      <td>0,457</td>\n",
              "      <td>0,402</td>\n",
              "    </tr>\n",
              "    <tr>\n",
              "      <th>14</th>\n",
              "      <td>Bahamas, The</td>\n",
              "      <td>LATIN AMER. &amp; CARIB</td>\n",
              "      <td>303770</td>\n",
              "      <td>13940</td>\n",
              "      <td>21,8</td>\n",
              "      <td>25,41</td>\n",
              "      <td>-2,2</td>\n",
              "      <td>25,21</td>\n",
              "      <td>16700.0</td>\n",
              "      <td>95,6</td>\n",
              "      <td>460,6</td>\n",
              "      <td>0,8</td>\n",
              "      <td>0,4</td>\n",
              "      <td>98,8</td>\n",
              "      <td>2</td>\n",
              "      <td>17,57</td>\n",
              "      <td>9,05</td>\n",
              "      <td>0,03</td>\n",
              "      <td>0,07</td>\n",
              "      <td>0,9</td>\n",
              "    </tr>\n",
              "    <tr>\n",
              "      <th>15</th>\n",
              "      <td>Bahrain</td>\n",
              "      <td>NEAR EAST</td>\n",
              "      <td>698585</td>\n",
              "      <td>665</td>\n",
              "      <td>1050,5</td>\n",
              "      <td>24,21</td>\n",
              "      <td>1,05</td>\n",
              "      <td>17,27</td>\n",
              "      <td>16900.0</td>\n",
              "      <td>89,1</td>\n",
              "      <td>281,3</td>\n",
              "      <td>2,82</td>\n",
              "      <td>5,63</td>\n",
              "      <td>91,55</td>\n",
              "      <td>1</td>\n",
              "      <td>17,8</td>\n",
              "      <td>4,14</td>\n",
              "      <td>0,005</td>\n",
              "      <td>0,387</td>\n",
              "      <td>0,608</td>\n",
              "    </tr>\n",
              "    <tr>\n",
              "      <th>16</th>\n",
              "      <td>Bangladesh</td>\n",
              "      <td>ASIA (EX. NEAR EAST)</td>\n",
              "      <td>147365352</td>\n",
              "      <td>144000</td>\n",
              "      <td>1023,4</td>\n",
              "      <td>0,40</td>\n",
              "      <td>-0,71</td>\n",
              "      <td>62,6</td>\n",
              "      <td>1900.0</td>\n",
              "      <td>43,1</td>\n",
              "      <td>7,3</td>\n",
              "      <td>62,11</td>\n",
              "      <td>3,07</td>\n",
              "      <td>34,82</td>\n",
              "      <td>2</td>\n",
              "      <td>29,8</td>\n",
              "      <td>8,27</td>\n",
              "      <td>0,199</td>\n",
              "      <td>0,198</td>\n",
              "      <td>0,603</td>\n",
              "    </tr>\n",
              "    <tr>\n",
              "      <th>17</th>\n",
              "      <td>Barbados</td>\n",
              "      <td>LATIN AMER. &amp; CARIB</td>\n",
              "      <td>279912</td>\n",
              "      <td>431</td>\n",
              "      <td>649,5</td>\n",
              "      <td>22,51</td>\n",
              "      <td>-0,31</td>\n",
              "      <td>12,5</td>\n",
              "      <td>15700.0</td>\n",
              "      <td>97,4</td>\n",
              "      <td>481,9</td>\n",
              "      <td>37,21</td>\n",
              "      <td>2,33</td>\n",
              "      <td>60,46</td>\n",
              "      <td>2</td>\n",
              "      <td>12,71</td>\n",
              "      <td>8,67</td>\n",
              "      <td>0,06</td>\n",
              "      <td>0,16</td>\n",
              "      <td>0,78</td>\n",
              "    </tr>\n",
              "    <tr>\n",
              "      <th>18</th>\n",
              "      <td>Belarus</td>\n",
              "      <td>C.W. OF IND. STATES</td>\n",
              "      <td>10293011</td>\n",
              "      <td>207600</td>\n",
              "      <td>49,6</td>\n",
              "      <td>0,00</td>\n",
              "      <td>2,54</td>\n",
              "      <td>13,37</td>\n",
              "      <td>6100.0</td>\n",
              "      <td>99,6</td>\n",
              "      <td>319,1</td>\n",
              "      <td>29,55</td>\n",
              "      <td>0,6</td>\n",
              "      <td>69,85</td>\n",
              "      <td>4</td>\n",
              "      <td>11,16</td>\n",
              "      <td>14,02</td>\n",
              "      <td>0,093</td>\n",
              "      <td>0,316</td>\n",
              "      <td>0,591</td>\n",
              "    </tr>\n",
              "    <tr>\n",
              "      <th>19</th>\n",
              "      <td>Belgium</td>\n",
              "      <td>WESTERN EUROPE</td>\n",
              "      <td>10379067</td>\n",
              "      <td>30528</td>\n",
              "      <td>340,0</td>\n",
              "      <td>0,22</td>\n",
              "      <td>1,23</td>\n",
              "      <td>4,68</td>\n",
              "      <td>29100.0</td>\n",
              "      <td>98,0</td>\n",
              "      <td>462,6</td>\n",
              "      <td>23,28</td>\n",
              "      <td>0,4</td>\n",
              "      <td>76,32</td>\n",
              "      <td>3</td>\n",
              "      <td>10,38</td>\n",
              "      <td>10,27</td>\n",
              "      <td>0,01</td>\n",
              "      <td>0,24</td>\n",
              "      <td>0,749</td>\n",
              "    </tr>\n",
              "    <tr>\n",
              "      <th>20</th>\n",
              "      <td>Belize</td>\n",
              "      <td>LATIN AMER. &amp; CARIB</td>\n",
              "      <td>287730</td>\n",
              "      <td>22966</td>\n",
              "      <td>12,5</td>\n",
              "      <td>1,68</td>\n",
              "      <td>0</td>\n",
              "      <td>25,69</td>\n",
              "      <td>4900.0</td>\n",
              "      <td>94,1</td>\n",
              "      <td>115,7</td>\n",
              "      <td>2,85</td>\n",
              "      <td>1,71</td>\n",
              "      <td>95,44</td>\n",
              "      <td>2</td>\n",
              "      <td>28,84</td>\n",
              "      <td>5,72</td>\n",
              "      <td>0,142</td>\n",
              "      <td>0,152</td>\n",
              "      <td>0,612</td>\n",
              "    </tr>\n",
              "    <tr>\n",
              "      <th>21</th>\n",
              "      <td>Benin</td>\n",
              "      <td>SUB-SAHARAN AFRICA</td>\n",
              "      <td>7862944</td>\n",
              "      <td>112620</td>\n",
              "      <td>69,8</td>\n",
              "      <td>0,11</td>\n",
              "      <td>0</td>\n",
              "      <td>85</td>\n",
              "      <td>1100.0</td>\n",
              "      <td>40,9</td>\n",
              "      <td>9,7</td>\n",
              "      <td>18,08</td>\n",
              "      <td>2,4</td>\n",
              "      <td>79,52</td>\n",
              "      <td>2</td>\n",
              "      <td>38,85</td>\n",
              "      <td>12,22</td>\n",
              "      <td>0,316</td>\n",
              "      <td>0,138</td>\n",
              "      <td>0,546</td>\n",
              "    </tr>\n",
              "    <tr>\n",
              "      <th>22</th>\n",
              "      <td>Bermuda</td>\n",
              "      <td>NORTHERN AMERICA</td>\n",
              "      <td>65773</td>\n",
              "      <td>53</td>\n",
              "      <td>1241,0</td>\n",
              "      <td>194,34</td>\n",
              "      <td>2,49</td>\n",
              "      <td>8,53</td>\n",
              "      <td>36000.0</td>\n",
              "      <td>98,0</td>\n",
              "      <td>851,4</td>\n",
              "      <td>20</td>\n",
              "      <td>0</td>\n",
              "      <td>80</td>\n",
              "      <td>2</td>\n",
              "      <td>11,4</td>\n",
              "      <td>7,74</td>\n",
              "      <td>0,01</td>\n",
              "      <td>0,1</td>\n",
              "      <td>0,89</td>\n",
              "    </tr>\n",
              "  </tbody>\n",
              "</table>\n",
              "</div>\n",
              "      <button class=\"colab-df-convert\" onclick=\"convertToInteractive('df-225b5660-8906-462e-82dd-0df241d17d79')\"\n",
              "              title=\"Convert this dataframe to an interactive table.\"\n",
              "              style=\"display:none;\">\n",
              "        \n",
              "  <svg xmlns=\"http://www.w3.org/2000/svg\" height=\"24px\"viewBox=\"0 0 24 24\"\n",
              "       width=\"24px\">\n",
              "    <path d=\"M0 0h24v24H0V0z\" fill=\"none\"/>\n",
              "    <path d=\"M18.56 5.44l.94 2.06.94-2.06 2.06-.94-2.06-.94-.94-2.06-.94 2.06-2.06.94zm-11 1L8.5 8.5l.94-2.06 2.06-.94-2.06-.94L8.5 2.5l-.94 2.06-2.06.94zm10 10l.94 2.06.94-2.06 2.06-.94-2.06-.94-.94-2.06-.94 2.06-2.06.94z\"/><path d=\"M17.41 7.96l-1.37-1.37c-.4-.4-.92-.59-1.43-.59-.52 0-1.04.2-1.43.59L10.3 9.45l-7.72 7.72c-.78.78-.78 2.05 0 2.83L4 21.41c.39.39.9.59 1.41.59.51 0 1.02-.2 1.41-.59l7.78-7.78 2.81-2.81c.8-.78.8-2.07 0-2.86zM5.41 20L4 18.59l7.72-7.72 1.47 1.35L5.41 20z\"/>\n",
              "  </svg>\n",
              "      </button>\n",
              "      \n",
              "  <style>\n",
              "    .colab-df-container {\n",
              "      display:flex;\n",
              "      flex-wrap:wrap;\n",
              "      gap: 12px;\n",
              "    }\n",
              "\n",
              "    .colab-df-convert {\n",
              "      background-color: #E8F0FE;\n",
              "      border: none;\n",
              "      border-radius: 50%;\n",
              "      cursor: pointer;\n",
              "      display: none;\n",
              "      fill: #1967D2;\n",
              "      height: 32px;\n",
              "      padding: 0 0 0 0;\n",
              "      width: 32px;\n",
              "    }\n",
              "\n",
              "    .colab-df-convert:hover {\n",
              "      background-color: #E2EBFA;\n",
              "      box-shadow: 0px 1px 2px rgba(60, 64, 67, 0.3), 0px 1px 3px 1px rgba(60, 64, 67, 0.15);\n",
              "      fill: #174EA6;\n",
              "    }\n",
              "\n",
              "    [theme=dark] .colab-df-convert {\n",
              "      background-color: #3B4455;\n",
              "      fill: #D2E3FC;\n",
              "    }\n",
              "\n",
              "    [theme=dark] .colab-df-convert:hover {\n",
              "      background-color: #434B5C;\n",
              "      box-shadow: 0px 1px 3px 1px rgba(0, 0, 0, 0.15);\n",
              "      filter: drop-shadow(0px 1px 2px rgba(0, 0, 0, 0.3));\n",
              "      fill: #FFFFFF;\n",
              "    }\n",
              "  </style>\n",
              "\n",
              "      <script>\n",
              "        const buttonEl =\n",
              "          document.querySelector('#df-225b5660-8906-462e-82dd-0df241d17d79 button.colab-df-convert');\n",
              "        buttonEl.style.display =\n",
              "          google.colab.kernel.accessAllowed ? 'block' : 'none';\n",
              "\n",
              "        async function convertToInteractive(key) {\n",
              "          const element = document.querySelector('#df-225b5660-8906-462e-82dd-0df241d17d79');\n",
              "          const dataTable =\n",
              "            await google.colab.kernel.invokeFunction('convertToInteractive',\n",
              "                                                     [key], {});\n",
              "          if (!dataTable) return;\n",
              "\n",
              "          const docLinkHtml = 'Like what you see? Visit the ' +\n",
              "            '<a target=\"_blank\" href=https://colab.research.google.com/notebooks/data_table.ipynb>data table notebook</a>'\n",
              "            + ' to learn more about interactive tables.';\n",
              "          element.innerHTML = '';\n",
              "          dataTable['output_type'] = 'display_data';\n",
              "          await google.colab.output.renderOutput(dataTable, element);\n",
              "          const docLink = document.createElement('div');\n",
              "          docLink.innerHTML = docLinkHtml;\n",
              "          element.appendChild(docLink);\n",
              "        }\n",
              "      </script>\n",
              "    </div>\n",
              "  </div>\n",
              "  "
            ]
          },
          "metadata": {},
          "execution_count": 34
        }
      ]
    },
    {
      "cell_type": "code",
      "source": [
        "df3 = df2.apply(lambda x: x.replace(',' , '.' , regex=True))"
      ],
      "metadata": {
        "id": "uX2WOVska9zg"
      },
      "execution_count": 35,
      "outputs": []
    },
    {
      "cell_type": "code",
      "source": [
        "df3.info()"
      ],
      "metadata": {
        "colab": {
          "base_uri": "https://localhost:8080/"
        },
        "id": "kNSZHhmV6gd_",
        "outputId": "4cb833de-7d30-453c-a6e9-bd860c6560f0"
      },
      "execution_count": 36,
      "outputs": [
        {
          "output_type": "stream",
          "name": "stdout",
          "text": [
            "<class 'pandas.core.frame.DataFrame'>\n",
            "Int64Index: 179 entries, 0 to 226\n",
            "Data columns (total 20 columns):\n",
            " #   Column                              Non-Null Count  Dtype  \n",
            "---  ------                              --------------  -----  \n",
            " 0   Country                             179 non-null    object \n",
            " 1   Region                              179 non-null    object \n",
            " 2   Population                          179 non-null    int64  \n",
            " 3   Area (sq. mi.)                      179 non-null    int64  \n",
            " 4   Pop. Density (per sq. mi.)          179 non-null    object \n",
            " 5   Coastline (coast/area ratio)        179 non-null    object \n",
            " 6   Net migration                       179 non-null    object \n",
            " 7   Infant mortality (per 1000 births)  179 non-null    object \n",
            " 8   GDP ($ per capita)                  179 non-null    float64\n",
            " 9   Literacy (%)                        179 non-null    object \n",
            " 10  Phones (per 1000)                   179 non-null    object \n",
            " 11  Arable (%)                          179 non-null    object \n",
            " 12  Crops (%)                           179 non-null    object \n",
            " 13  Other (%)                           179 non-null    object \n",
            " 14  Climate                             179 non-null    object \n",
            " 15  Birthrate                           179 non-null    object \n",
            " 16  Deathrate                           179 non-null    object \n",
            " 17  Agriculture                         179 non-null    object \n",
            " 18  Industry                            179 non-null    object \n",
            " 19  Service                             179 non-null    object \n",
            "dtypes: float64(1), int64(2), object(17)\n",
            "memory usage: 29.4+ KB\n"
          ]
        }
      ]
    },
    {
      "cell_type": "code",
      "source": [
        "type_convert_dict = {'Pop. Density (per sq. mi.)':  'float','Infant mortality (per 1000 births)': 'float' , 'Literacy (%)': 'float', 'Birthrate': 'float', 'Deathrate': 'float'}\n",
        "df4 = df3.astype(type_convert_dict)\n",
        "\n"
      ],
      "metadata": {
        "id": "u4P77DDYDCyi"
      },
      "execution_count": 37,
      "outputs": []
    },
    {
      "cell_type": "code",
      "source": [
        "df4.info()"
      ],
      "metadata": {
        "colab": {
          "base_uri": "https://localhost:8080/"
        },
        "id": "8We3fteY9XKI",
        "outputId": "2c42f5a4-e70d-46b7-a991-1458eddf82f2"
      },
      "execution_count": 38,
      "outputs": [
        {
          "output_type": "stream",
          "name": "stdout",
          "text": [
            "<class 'pandas.core.frame.DataFrame'>\n",
            "Int64Index: 179 entries, 0 to 226\n",
            "Data columns (total 20 columns):\n",
            " #   Column                              Non-Null Count  Dtype  \n",
            "---  ------                              --------------  -----  \n",
            " 0   Country                             179 non-null    object \n",
            " 1   Region                              179 non-null    object \n",
            " 2   Population                          179 non-null    int64  \n",
            " 3   Area (sq. mi.)                      179 non-null    int64  \n",
            " 4   Pop. Density (per sq. mi.)          179 non-null    float64\n",
            " 5   Coastline (coast/area ratio)        179 non-null    object \n",
            " 6   Net migration                       179 non-null    object \n",
            " 7   Infant mortality (per 1000 births)  179 non-null    float64\n",
            " 8   GDP ($ per capita)                  179 non-null    float64\n",
            " 9   Literacy (%)                        179 non-null    float64\n",
            " 10  Phones (per 1000)                   179 non-null    object \n",
            " 11  Arable (%)                          179 non-null    object \n",
            " 12  Crops (%)                           179 non-null    object \n",
            " 13  Other (%)                           179 non-null    object \n",
            " 14  Climate                             179 non-null    object \n",
            " 15  Birthrate                           179 non-null    float64\n",
            " 16  Deathrate                           179 non-null    float64\n",
            " 17  Agriculture                         179 non-null    object \n",
            " 18  Industry                            179 non-null    object \n",
            " 19  Service                             179 non-null    object \n",
            "dtypes: float64(6), int64(2), object(12)\n",
            "memory usage: 29.4+ KB\n"
          ]
        }
      ]
    },
    {
      "cell_type": "code",
      "source": [
        "countries_info = df4[['Country', 'Region', 'Population', 'Pop. Density (per sq. mi.)', 'Infant mortality (per 1000 births)', 'GDP ($ per capita)', 'Literacy (%)', 'Birthrate', 'Deathrate']]\n",
        "countries_info.info()\n"
      ],
      "metadata": {
        "colab": {
          "base_uri": "https://localhost:8080/"
        },
        "id": "e9PMDgM5_MXG",
        "outputId": "c0cdbcd2-355d-419c-b457-93965699e084"
      },
      "execution_count": 39,
      "outputs": [
        {
          "output_type": "stream",
          "name": "stdout",
          "text": [
            "<class 'pandas.core.frame.DataFrame'>\n",
            "Int64Index: 179 entries, 0 to 226\n",
            "Data columns (total 9 columns):\n",
            " #   Column                              Non-Null Count  Dtype  \n",
            "---  ------                              --------------  -----  \n",
            " 0   Country                             179 non-null    object \n",
            " 1   Region                              179 non-null    object \n",
            " 2   Population                          179 non-null    int64  \n",
            " 3   Pop. Density (per sq. mi.)          179 non-null    float64\n",
            " 4   Infant mortality (per 1000 births)  179 non-null    float64\n",
            " 5   GDP ($ per capita)                  179 non-null    float64\n",
            " 6   Literacy (%)                        179 non-null    float64\n",
            " 7   Birthrate                           179 non-null    float64\n",
            " 8   Deathrate                           179 non-null    float64\n",
            "dtypes: float64(6), int64(1), object(2)\n",
            "memory usage: 14.0+ KB\n"
          ]
        }
      ]
    },
    {
      "cell_type": "code",
      "source": [
        "type_convert_dict = {'Pop. Density (per sq. mi.)':  'pop_density','Infant mortality (per 1000 births)': 'inf-mort', 'Literacy (%)': 'literacy', 'Birthrate': 'birthrate', 'Deathrate': 'deathrate'}\n",
        "\n",
        "countries_info.rename(columns= type_convert_dict, inplace=True)\n",
        "countries_info.head()"
      ],
      "metadata": {
        "colab": {
          "base_uri": "https://localhost:8080/",
          "height": 293
        },
        "id": "1O3bmmn4XRtF",
        "outputId": "2edcda6f-716a-4709-ea15-d8784a6bd4d6"
      },
      "execution_count": 40,
      "outputs": [
        {
          "output_type": "stream",
          "name": "stderr",
          "text": [
            "/usr/local/lib/python3.7/dist-packages/pandas/core/frame.py:5047: SettingWithCopyWarning: \n",
            "A value is trying to be set on a copy of a slice from a DataFrame\n",
            "\n",
            "See the caveats in the documentation: https://pandas.pydata.org/pandas-docs/stable/user_guide/indexing.html#returning-a-view-versus-a-copy\n",
            "  errors=errors,\n"
          ]
        },
        {
          "output_type": "execute_result",
          "data": {
            "text/plain": [
              "              Country                               Region  Population  \\\n",
              "0        Afghanistan         ASIA (EX. NEAR EAST)             31056997   \n",
              "1            Albania   EASTERN EUROPE                          3581655   \n",
              "2            Algeria   NORTHERN AFRICA                        32930091   \n",
              "6           Anguilla               LATIN AMER. & CARIB           13477   \n",
              "7  Antigua & Barbuda               LATIN AMER. & CARIB           69108   \n",
              "\n",
              "   pop_density  inf-mort  GDP ($ per capita)  literacy  birthrate  deathrate  \n",
              "0         48.0    163.07               700.0      36.0      46.60      20.34  \n",
              "1        124.6     21.52              4500.0      86.5      15.11       5.22  \n",
              "2         13.8     31.00              6000.0      70.0      17.14       4.61  \n",
              "6        132.1     21.03              8600.0      95.0      14.17       5.34  \n",
              "7        156.0     19.46             11000.0      89.0      16.93       5.37  "
            ],
            "text/html": [
              "\n",
              "  <div id=\"df-593828aa-5980-4e0a-85df-487beec14fb1\">\n",
              "    <div class=\"colab-df-container\">\n",
              "      <div>\n",
              "<style scoped>\n",
              "    .dataframe tbody tr th:only-of-type {\n",
              "        vertical-align: middle;\n",
              "    }\n",
              "\n",
              "    .dataframe tbody tr th {\n",
              "        vertical-align: top;\n",
              "    }\n",
              "\n",
              "    .dataframe thead th {\n",
              "        text-align: right;\n",
              "    }\n",
              "</style>\n",
              "<table border=\"1\" class=\"dataframe\">\n",
              "  <thead>\n",
              "    <tr style=\"text-align: right;\">\n",
              "      <th></th>\n",
              "      <th>Country</th>\n",
              "      <th>Region</th>\n",
              "      <th>Population</th>\n",
              "      <th>pop_density</th>\n",
              "      <th>inf-mort</th>\n",
              "      <th>GDP ($ per capita)</th>\n",
              "      <th>literacy</th>\n",
              "      <th>birthrate</th>\n",
              "      <th>deathrate</th>\n",
              "    </tr>\n",
              "  </thead>\n",
              "  <tbody>\n",
              "    <tr>\n",
              "      <th>0</th>\n",
              "      <td>Afghanistan</td>\n",
              "      <td>ASIA (EX. NEAR EAST)</td>\n",
              "      <td>31056997</td>\n",
              "      <td>48.0</td>\n",
              "      <td>163.07</td>\n",
              "      <td>700.0</td>\n",
              "      <td>36.0</td>\n",
              "      <td>46.60</td>\n",
              "      <td>20.34</td>\n",
              "    </tr>\n",
              "    <tr>\n",
              "      <th>1</th>\n",
              "      <td>Albania</td>\n",
              "      <td>EASTERN EUROPE</td>\n",
              "      <td>3581655</td>\n",
              "      <td>124.6</td>\n",
              "      <td>21.52</td>\n",
              "      <td>4500.0</td>\n",
              "      <td>86.5</td>\n",
              "      <td>15.11</td>\n",
              "      <td>5.22</td>\n",
              "    </tr>\n",
              "    <tr>\n",
              "      <th>2</th>\n",
              "      <td>Algeria</td>\n",
              "      <td>NORTHERN AFRICA</td>\n",
              "      <td>32930091</td>\n",
              "      <td>13.8</td>\n",
              "      <td>31.00</td>\n",
              "      <td>6000.0</td>\n",
              "      <td>70.0</td>\n",
              "      <td>17.14</td>\n",
              "      <td>4.61</td>\n",
              "    </tr>\n",
              "    <tr>\n",
              "      <th>6</th>\n",
              "      <td>Anguilla</td>\n",
              "      <td>LATIN AMER. &amp; CARIB</td>\n",
              "      <td>13477</td>\n",
              "      <td>132.1</td>\n",
              "      <td>21.03</td>\n",
              "      <td>8600.0</td>\n",
              "      <td>95.0</td>\n",
              "      <td>14.17</td>\n",
              "      <td>5.34</td>\n",
              "    </tr>\n",
              "    <tr>\n",
              "      <th>7</th>\n",
              "      <td>Antigua &amp; Barbuda</td>\n",
              "      <td>LATIN AMER. &amp; CARIB</td>\n",
              "      <td>69108</td>\n",
              "      <td>156.0</td>\n",
              "      <td>19.46</td>\n",
              "      <td>11000.0</td>\n",
              "      <td>89.0</td>\n",
              "      <td>16.93</td>\n",
              "      <td>5.37</td>\n",
              "    </tr>\n",
              "  </tbody>\n",
              "</table>\n",
              "</div>\n",
              "      <button class=\"colab-df-convert\" onclick=\"convertToInteractive('df-593828aa-5980-4e0a-85df-487beec14fb1')\"\n",
              "              title=\"Convert this dataframe to an interactive table.\"\n",
              "              style=\"display:none;\">\n",
              "        \n",
              "  <svg xmlns=\"http://www.w3.org/2000/svg\" height=\"24px\"viewBox=\"0 0 24 24\"\n",
              "       width=\"24px\">\n",
              "    <path d=\"M0 0h24v24H0V0z\" fill=\"none\"/>\n",
              "    <path d=\"M18.56 5.44l.94 2.06.94-2.06 2.06-.94-2.06-.94-.94-2.06-.94 2.06-2.06.94zm-11 1L8.5 8.5l.94-2.06 2.06-.94-2.06-.94L8.5 2.5l-.94 2.06-2.06.94zm10 10l.94 2.06.94-2.06 2.06-.94-2.06-.94-.94-2.06-.94 2.06-2.06.94z\"/><path d=\"M17.41 7.96l-1.37-1.37c-.4-.4-.92-.59-1.43-.59-.52 0-1.04.2-1.43.59L10.3 9.45l-7.72 7.72c-.78.78-.78 2.05 0 2.83L4 21.41c.39.39.9.59 1.41.59.51 0 1.02-.2 1.41-.59l7.78-7.78 2.81-2.81c.8-.78.8-2.07 0-2.86zM5.41 20L4 18.59l7.72-7.72 1.47 1.35L5.41 20z\"/>\n",
              "  </svg>\n",
              "      </button>\n",
              "      \n",
              "  <style>\n",
              "    .colab-df-container {\n",
              "      display:flex;\n",
              "      flex-wrap:wrap;\n",
              "      gap: 12px;\n",
              "    }\n",
              "\n",
              "    .colab-df-convert {\n",
              "      background-color: #E8F0FE;\n",
              "      border: none;\n",
              "      border-radius: 50%;\n",
              "      cursor: pointer;\n",
              "      display: none;\n",
              "      fill: #1967D2;\n",
              "      height: 32px;\n",
              "      padding: 0 0 0 0;\n",
              "      width: 32px;\n",
              "    }\n",
              "\n",
              "    .colab-df-convert:hover {\n",
              "      background-color: #E2EBFA;\n",
              "      box-shadow: 0px 1px 2px rgba(60, 64, 67, 0.3), 0px 1px 3px 1px rgba(60, 64, 67, 0.15);\n",
              "      fill: #174EA6;\n",
              "    }\n",
              "\n",
              "    [theme=dark] .colab-df-convert {\n",
              "      background-color: #3B4455;\n",
              "      fill: #D2E3FC;\n",
              "    }\n",
              "\n",
              "    [theme=dark] .colab-df-convert:hover {\n",
              "      background-color: #434B5C;\n",
              "      box-shadow: 0px 1px 3px 1px rgba(0, 0, 0, 0.15);\n",
              "      filter: drop-shadow(0px 1px 2px rgba(0, 0, 0, 0.3));\n",
              "      fill: #FFFFFF;\n",
              "    }\n",
              "  </style>\n",
              "\n",
              "      <script>\n",
              "        const buttonEl =\n",
              "          document.querySelector('#df-593828aa-5980-4e0a-85df-487beec14fb1 button.colab-df-convert');\n",
              "        buttonEl.style.display =\n",
              "          google.colab.kernel.accessAllowed ? 'block' : 'none';\n",
              "\n",
              "        async function convertToInteractive(key) {\n",
              "          const element = document.querySelector('#df-593828aa-5980-4e0a-85df-487beec14fb1');\n",
              "          const dataTable =\n",
              "            await google.colab.kernel.invokeFunction('convertToInteractive',\n",
              "                                                     [key], {});\n",
              "          if (!dataTable) return;\n",
              "\n",
              "          const docLinkHtml = 'Like what you see? Visit the ' +\n",
              "            '<a target=\"_blank\" href=https://colab.research.google.com/notebooks/data_table.ipynb>data table notebook</a>'\n",
              "            + ' to learn more about interactive tables.';\n",
              "          element.innerHTML = '';\n",
              "          dataTable['output_type'] = 'display_data';\n",
              "          await google.colab.output.renderOutput(dataTable, element);\n",
              "          const docLink = document.createElement('div');\n",
              "          docLink.innerHTML = docLinkHtml;\n",
              "          element.appendChild(docLink);\n",
              "        }\n",
              "      </script>\n",
              "    </div>\n",
              "  </div>\n",
              "  "
            ]
          },
          "metadata": {},
          "execution_count": 40
        }
      ]
    },
    {
      "cell_type": "code",
      "source": [
        ""
      ],
      "metadata": {
        "id": "bjsx9ktCmQNd"
      },
      "execution_count": null,
      "outputs": []
    },
    {
      "cell_type": "code",
      "source": [
        "countries_info.Region.value_counts(normalize=True)\n"
      ],
      "metadata": {
        "colab": {
          "base_uri": "https://localhost:8080/"
        },
        "id": "5Zmjb58f90Yv",
        "outputId": "17394a8c-475a-4276-d98f-0dcf7f1dfee4"
      },
      "execution_count": 41,
      "outputs": [
        {
          "output_type": "execute_result",
          "data": {
            "text/plain": [
              "SUB-SAHARAN AFRICA                     0.262570\n",
              "LATIN AMER. & CARIB                    0.234637\n",
              "ASIA (EX. NEAR EAST)                   0.145251\n",
              "WESTERN EUROPE                         0.094972\n",
              "OCEANIA                                0.067039\n",
              "NEAR EAST                              0.067039\n",
              "C.W. OF IND. STATES                    0.055866\n",
              "EASTERN EUROPE                         0.033520\n",
              "NORTHERN AFRICA                        0.016760\n",
              "NORTHERN AMERICA                       0.011173\n",
              "BALTICS                                0.011173\n",
              "Name: Region, dtype: float64"
            ]
          },
          "metadata": {},
          "execution_count": 41
        }
      ]
    },
    {
      "cell_type": "code",
      "source": [
        "#agg_func = {'Population': 'sum', 'pop_density': 'mean', 'inf-mort':  'mean', 'GDP ($ per capita)'}\n",
        "region_info = countries_info.groupby('Region').mean().reset_index()\n",
        "region_info"
      ],
      "metadata": {
        "colab": {
          "base_uri": "https://localhost:8080/",
          "height": 394
        },
        "id": "kr-BQtbnB5Hi",
        "outputId": "39056673-7d2d-487a-8b10-ed2d135b483e"
      },
      "execution_count": 42,
      "outputs": [
        {
          "output_type": "execute_result",
          "data": {
            "text/plain": [
              "                                 Region    Population  pop_density   inf-mort  \\\n",
              "0         ASIA (EX. NEAR EAST)           1.407166e+08  1352.003846  40.594231   \n",
              "1   BALTICS                              1.799534e+06    32.250000   8.710000   \n",
              "2                  C.W. OF IND. STATES   1.327213e+07    54.010000  47.711000   \n",
              "3   EASTERN EUROPE                       1.533737e+07   107.583333  14.918333   \n",
              "4               LATIN AMER. & CARIB      1.337346e+07   141.202381  20.788571   \n",
              "5   NEAR EAST                            1.554340e+07   165.608333  24.982500   \n",
              "6   NORTHERN AFRICA                      4.066404e+07    51.600000  29.453333   \n",
              "7   NORTHERN AMERICA                     1.492550e+08   636.000000   7.515000   \n",
              "8   OCEANIA                              2.675001e+06    49.291667  21.730000   \n",
              "9   SUB-SAHARAN AFRICA                   1.488629e+07    87.231915  78.954681   \n",
              "10  WESTERN EUROPE                       1.981716e+07   137.170588   4.432353   \n",
              "\n",
              "    GDP ($ per capita)   literacy  birthrate  deathrate  \n",
              "0          8600.000000  81.680769  20.555769   7.626538  \n",
              "1         11250.000000  99.800000   9.640000  13.455000  \n",
              "2          3730.000000  98.600000  18.862000   9.681000  \n",
              "3          9966.666667  97.100000  10.675000  10.808333  \n",
              "4          8583.333333  90.328571  19.172857   6.409048  \n",
              "5         11825.000000  77.358333  24.859167   4.611667  \n",
              "6          5633.333333  67.300000  18.533333   4.990000  \n",
              "7         36900.000000  97.500000  12.770000   8.000000  \n",
              "8          9533.333333  89.350000  21.073333   6.197500  \n",
              "9          2359.574468  61.878723  36.220000  15.283830  \n",
              "10        27758.823529  98.623529  10.750000   9.364706  "
            ],
            "text/html": [
              "\n",
              "  <div id=\"df-0c52a5ce-c041-49d4-ab16-73a8b48baccd\">\n",
              "    <div class=\"colab-df-container\">\n",
              "      <div>\n",
              "<style scoped>\n",
              "    .dataframe tbody tr th:only-of-type {\n",
              "        vertical-align: middle;\n",
              "    }\n",
              "\n",
              "    .dataframe tbody tr th {\n",
              "        vertical-align: top;\n",
              "    }\n",
              "\n",
              "    .dataframe thead th {\n",
              "        text-align: right;\n",
              "    }\n",
              "</style>\n",
              "<table border=\"1\" class=\"dataframe\">\n",
              "  <thead>\n",
              "    <tr style=\"text-align: right;\">\n",
              "      <th></th>\n",
              "      <th>Region</th>\n",
              "      <th>Population</th>\n",
              "      <th>pop_density</th>\n",
              "      <th>inf-mort</th>\n",
              "      <th>GDP ($ per capita)</th>\n",
              "      <th>literacy</th>\n",
              "      <th>birthrate</th>\n",
              "      <th>deathrate</th>\n",
              "    </tr>\n",
              "  </thead>\n",
              "  <tbody>\n",
              "    <tr>\n",
              "      <th>0</th>\n",
              "      <td>ASIA (EX. NEAR EAST)</td>\n",
              "      <td>1.407166e+08</td>\n",
              "      <td>1352.003846</td>\n",
              "      <td>40.594231</td>\n",
              "      <td>8600.000000</td>\n",
              "      <td>81.680769</td>\n",
              "      <td>20.555769</td>\n",
              "      <td>7.626538</td>\n",
              "    </tr>\n",
              "    <tr>\n",
              "      <th>1</th>\n",
              "      <td>BALTICS</td>\n",
              "      <td>1.799534e+06</td>\n",
              "      <td>32.250000</td>\n",
              "      <td>8.710000</td>\n",
              "      <td>11250.000000</td>\n",
              "      <td>99.800000</td>\n",
              "      <td>9.640000</td>\n",
              "      <td>13.455000</td>\n",
              "    </tr>\n",
              "    <tr>\n",
              "      <th>2</th>\n",
              "      <td>C.W. OF IND. STATES</td>\n",
              "      <td>1.327213e+07</td>\n",
              "      <td>54.010000</td>\n",
              "      <td>47.711000</td>\n",
              "      <td>3730.000000</td>\n",
              "      <td>98.600000</td>\n",
              "      <td>18.862000</td>\n",
              "      <td>9.681000</td>\n",
              "    </tr>\n",
              "    <tr>\n",
              "      <th>3</th>\n",
              "      <td>EASTERN EUROPE</td>\n",
              "      <td>1.533737e+07</td>\n",
              "      <td>107.583333</td>\n",
              "      <td>14.918333</td>\n",
              "      <td>9966.666667</td>\n",
              "      <td>97.100000</td>\n",
              "      <td>10.675000</td>\n",
              "      <td>10.808333</td>\n",
              "    </tr>\n",
              "    <tr>\n",
              "      <th>4</th>\n",
              "      <td>LATIN AMER. &amp; CARIB</td>\n",
              "      <td>1.337346e+07</td>\n",
              "      <td>141.202381</td>\n",
              "      <td>20.788571</td>\n",
              "      <td>8583.333333</td>\n",
              "      <td>90.328571</td>\n",
              "      <td>19.172857</td>\n",
              "      <td>6.409048</td>\n",
              "    </tr>\n",
              "    <tr>\n",
              "      <th>5</th>\n",
              "      <td>NEAR EAST</td>\n",
              "      <td>1.554340e+07</td>\n",
              "      <td>165.608333</td>\n",
              "      <td>24.982500</td>\n",
              "      <td>11825.000000</td>\n",
              "      <td>77.358333</td>\n",
              "      <td>24.859167</td>\n",
              "      <td>4.611667</td>\n",
              "    </tr>\n",
              "    <tr>\n",
              "      <th>6</th>\n",
              "      <td>NORTHERN AFRICA</td>\n",
              "      <td>4.066404e+07</td>\n",
              "      <td>51.600000</td>\n",
              "      <td>29.453333</td>\n",
              "      <td>5633.333333</td>\n",
              "      <td>67.300000</td>\n",
              "      <td>18.533333</td>\n",
              "      <td>4.990000</td>\n",
              "    </tr>\n",
              "    <tr>\n",
              "      <th>7</th>\n",
              "      <td>NORTHERN AMERICA</td>\n",
              "      <td>1.492550e+08</td>\n",
              "      <td>636.000000</td>\n",
              "      <td>7.515000</td>\n",
              "      <td>36900.000000</td>\n",
              "      <td>97.500000</td>\n",
              "      <td>12.770000</td>\n",
              "      <td>8.000000</td>\n",
              "    </tr>\n",
              "    <tr>\n",
              "      <th>8</th>\n",
              "      <td>OCEANIA</td>\n",
              "      <td>2.675001e+06</td>\n",
              "      <td>49.291667</td>\n",
              "      <td>21.730000</td>\n",
              "      <td>9533.333333</td>\n",
              "      <td>89.350000</td>\n",
              "      <td>21.073333</td>\n",
              "      <td>6.197500</td>\n",
              "    </tr>\n",
              "    <tr>\n",
              "      <th>9</th>\n",
              "      <td>SUB-SAHARAN AFRICA</td>\n",
              "      <td>1.488629e+07</td>\n",
              "      <td>87.231915</td>\n",
              "      <td>78.954681</td>\n",
              "      <td>2359.574468</td>\n",
              "      <td>61.878723</td>\n",
              "      <td>36.220000</td>\n",
              "      <td>15.283830</td>\n",
              "    </tr>\n",
              "    <tr>\n",
              "      <th>10</th>\n",
              "      <td>WESTERN EUROPE</td>\n",
              "      <td>1.981716e+07</td>\n",
              "      <td>137.170588</td>\n",
              "      <td>4.432353</td>\n",
              "      <td>27758.823529</td>\n",
              "      <td>98.623529</td>\n",
              "      <td>10.750000</td>\n",
              "      <td>9.364706</td>\n",
              "    </tr>\n",
              "  </tbody>\n",
              "</table>\n",
              "</div>\n",
              "      <button class=\"colab-df-convert\" onclick=\"convertToInteractive('df-0c52a5ce-c041-49d4-ab16-73a8b48baccd')\"\n",
              "              title=\"Convert this dataframe to an interactive table.\"\n",
              "              style=\"display:none;\">\n",
              "        \n",
              "  <svg xmlns=\"http://www.w3.org/2000/svg\" height=\"24px\"viewBox=\"0 0 24 24\"\n",
              "       width=\"24px\">\n",
              "    <path d=\"M0 0h24v24H0V0z\" fill=\"none\"/>\n",
              "    <path d=\"M18.56 5.44l.94 2.06.94-2.06 2.06-.94-2.06-.94-.94-2.06-.94 2.06-2.06.94zm-11 1L8.5 8.5l.94-2.06 2.06-.94-2.06-.94L8.5 2.5l-.94 2.06-2.06.94zm10 10l.94 2.06.94-2.06 2.06-.94-2.06-.94-.94-2.06-.94 2.06-2.06.94z\"/><path d=\"M17.41 7.96l-1.37-1.37c-.4-.4-.92-.59-1.43-.59-.52 0-1.04.2-1.43.59L10.3 9.45l-7.72 7.72c-.78.78-.78 2.05 0 2.83L4 21.41c.39.39.9.59 1.41.59.51 0 1.02-.2 1.41-.59l7.78-7.78 2.81-2.81c.8-.78.8-2.07 0-2.86zM5.41 20L4 18.59l7.72-7.72 1.47 1.35L5.41 20z\"/>\n",
              "  </svg>\n",
              "      </button>\n",
              "      \n",
              "  <style>\n",
              "    .colab-df-container {\n",
              "      display:flex;\n",
              "      flex-wrap:wrap;\n",
              "      gap: 12px;\n",
              "    }\n",
              "\n",
              "    .colab-df-convert {\n",
              "      background-color: #E8F0FE;\n",
              "      border: none;\n",
              "      border-radius: 50%;\n",
              "      cursor: pointer;\n",
              "      display: none;\n",
              "      fill: #1967D2;\n",
              "      height: 32px;\n",
              "      padding: 0 0 0 0;\n",
              "      width: 32px;\n",
              "    }\n",
              "\n",
              "    .colab-df-convert:hover {\n",
              "      background-color: #E2EBFA;\n",
              "      box-shadow: 0px 1px 2px rgba(60, 64, 67, 0.3), 0px 1px 3px 1px rgba(60, 64, 67, 0.15);\n",
              "      fill: #174EA6;\n",
              "    }\n",
              "\n",
              "    [theme=dark] .colab-df-convert {\n",
              "      background-color: #3B4455;\n",
              "      fill: #D2E3FC;\n",
              "    }\n",
              "\n",
              "    [theme=dark] .colab-df-convert:hover {\n",
              "      background-color: #434B5C;\n",
              "      box-shadow: 0px 1px 3px 1px rgba(0, 0, 0, 0.15);\n",
              "      filter: drop-shadow(0px 1px 2px rgba(0, 0, 0, 0.3));\n",
              "      fill: #FFFFFF;\n",
              "    }\n",
              "  </style>\n",
              "\n",
              "      <script>\n",
              "        const buttonEl =\n",
              "          document.querySelector('#df-0c52a5ce-c041-49d4-ab16-73a8b48baccd button.colab-df-convert');\n",
              "        buttonEl.style.display =\n",
              "          google.colab.kernel.accessAllowed ? 'block' : 'none';\n",
              "\n",
              "        async function convertToInteractive(key) {\n",
              "          const element = document.querySelector('#df-0c52a5ce-c041-49d4-ab16-73a8b48baccd');\n",
              "          const dataTable =\n",
              "            await google.colab.kernel.invokeFunction('convertToInteractive',\n",
              "                                                     [key], {});\n",
              "          if (!dataTable) return;\n",
              "\n",
              "          const docLinkHtml = 'Like what you see? Visit the ' +\n",
              "            '<a target=\"_blank\" href=https://colab.research.google.com/notebooks/data_table.ipynb>data table notebook</a>'\n",
              "            + ' to learn more about interactive tables.';\n",
              "          element.innerHTML = '';\n",
              "          dataTable['output_type'] = 'display_data';\n",
              "          await google.colab.output.renderOutput(dataTable, element);\n",
              "          const docLink = document.createElement('div');\n",
              "          docLink.innerHTML = docLinkHtml;\n",
              "          element.appendChild(docLink);\n",
              "        }\n",
              "      </script>\n",
              "    </div>\n",
              "  </div>\n",
              "  "
            ]
          },
          "metadata": {},
          "execution_count": 42
        }
      ]
    },
    {
      "cell_type": "markdown",
      "source": [
        "# What is data visualization?\n",
        "**“ A picture is worth a thousand of words”**\n",
        "\n",
        "That old quote is what Data Visualization is all about. Data visualization is an integral part of data science/ analysis as it is useful for \n",
        "1.\t*Exploratory Data Analysis* **EDA** : \n",
        " understanding the data.\n",
        "\n",
        "2.\t*Explanatory Data Analysis* :\n",
        " communicate the insights of the data in graphical form to other stakeholders.\n"
      ],
      "metadata": {
        "id": "zMiWjBDY91ky"
      }
    },
    {
      "cell_type": "markdown",
      "source": [
        "#**Useful packages for visualizations in python**\n",
        "Python offers several plotting libraries, namely Matplotlib, Seaborn , Bokeh and many other such data visualization packages with different features for creating informative, customized, and appealing plots to present data in the most simple and effective way.\n",
        "\n",
        "# *Matplotlib*\n",
        "Matplotlib is a visualization library in Python for 2D plots of arrays. Matplotlib is written in Python and makes use of the NumPy library. It can be used in Python and IPython shells, Jupyter notebook, and web application servers. Matplotlib comes with a wide variety of plots like line, bar, scatter, histogram, etc. which can help us, deep-dive, into understanding trends, patterns, correlations. It was introduced by John Hunter in 2002.\n",
        "\n",
        "---\n",
        "\n",
        "\n",
        "# *Seaborn*\n",
        "Seaborn is a dataset-oriented library for making statistical representations in Python. It is developed atop matplotlib and to create different visualizations. It is integrated with pandas data structures. The library internally performs the required mapping and aggregation to create informative visuals It is recommended to use a Jupiter/IPython interface in matplotlib mode.\n",
        "\n",
        "*Seaborn functions are classified into:* \n",
        "\n",
        "o\tFigure-level functions ( relplot / displot/ catplot )\n",
        "\n",
        "\n",
        "\n",
        "o\tAxes-level functions (scatterplot / histplot / boxplot …….)\n",
        "\n",
        "![image.png](data:image/png;base64,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)\n",
        "\n",
        "---\n",
        "\n",
        "\n",
        "\n",
        "# *Bokeh*\n",
        "Bokeh is an interactive visualization library for modern web browsers. It is suitable for large or streaming data assets and can be used to develop interactive plots and dashboards. There is a wide array of intuitive graphs in the library which can be leveraged to develop solutions. It works closely with PyData tools. The library is well-suited for creating customized visuals according to required use-cases. The visuals can also be made interactive to serve a what-if scenario model. All the codes are open source and available on GitHub.\n",
        "\n",
        "\n",
        "\n",
        "\n"
      ],
      "metadata": {
        "id": "mC34-qwe1bRI"
      }
    },
    {
      "cell_type": "markdown",
      "source": [
        "# How to use the right visualization?\n",
        "\n",
        "Matplotlib and Seaborn are python libraries that are used for data visualization. They have inbuilt modules for plotting different graphs. While Matplotlib is used to embed graphs into applications, Seaborn is primarily used for statistical graphs\n",
        "\n",
        "![image.png](data:image/png;base64,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)\n"
      ],
      "metadata": {
        "id": "ESErB3qWKTNR"
      }
    },
    {
      "cell_type": "markdown",
      "source": [
        "# **1) Line plot**\n",
        "A Line chart is a graph that represents information as a series of data points connected by a straight line. In line charts, each data point or marker is plotted and connected with a line or curve. \n"
      ],
      "metadata": {
        "id": "N4uyubFAMbPz"
      }
    },
    {
      "cell_type": "markdown",
      "source": [
        "**using matplotlib**"
      ],
      "metadata": {
        "id": "evHHDXUqN1wl"
      }
    },
    {
      "cell_type": "code",
      "source": [
        "# make data\n",
        "x = [2011, 2012, 2013, 2014, 2015, 2016, 2017, 2018, 2019, 2020]\n",
        "y = np.linspace(0, 10, 10)\n",
        "\n",
        "# plot\n",
        "fig, ax = plt.subplots()\n",
        "\n",
        "ax.plot(x, y, marker='o', linewidth=2.0)\n",
        "\n",
        "plt.xlabel('Years')\n",
        "plt.ylabel('Production (ton)')\n",
        "\n",
        "plt.title('Production')"
      ],
      "metadata": {
        "colab": {
          "base_uri": "https://localhost:8080/",
          "height": 312
        },
        "id": "gbwFzYMY1ZYZ",
        "outputId": "b0cb3388-98f1-4653-99d0-eecd13ed85e2"
      },
      "execution_count": 43,
      "outputs": [
        {
          "output_type": "execute_result",
          "data": {
            "text/plain": [
              "Text(0.5, 1.0, 'Production')"
            ]
          },
          "metadata": {},
          "execution_count": 43
        },
        {
          "output_type": "display_data",
          "data": {
            "text/plain": [
              "<Figure size 432x288 with 1 Axes>"
            ],
            "image/png": "[encoded data removed]"
          },
          "metadata": {
            "needs_background": "light"
          }
        }
      ]
    },
    {
      "cell_type": "markdown",
      "source": [
        "**using seaborn**"
      ],
      "metadata": {
        "id": "WrNlW_GzF-w2"
      }
    },
    {
      "cell_type": "code",
      "source": [
        "# make data\n",
        "x = [2011, 2012, 2013, 2014, 2015, 2016, 2017, 2018, 2019, 2020]\n",
        "y = np.linspace(0, 10, 10)\n",
        "sns.set_style('darkgrid')\n",
        "sns.lineplot(x, y,  marker='o')  \n",
        "plt.xlabel('Years')\n",
        "plt.ylabel('Production (ton)')\n",
        "plt.title('Production')"
      ],
      "metadata": {
        "colab": {
          "base_uri": "https://localhost:8080/",
          "height": 367
        },
        "id": "ThBUxoQ0KsH1",
        "outputId": "3aa8c7f0-c4a0-483d-9507-7c39f41705d5"
      },
      "execution_count": 44,
      "outputs": [
        {
          "output_type": "stream",
          "name": "stderr",
          "text": [
            "/usr/local/lib/python3.7/dist-packages/seaborn/_decorators.py:43: FutureWarning: Pass the following variables as keyword args: x, y. From version 0.12, the only valid positional argument will be `data`, and passing other arguments without an explicit keyword will result in an error or misinterpretation.\n",
            "  FutureWarning\n"
          ]
        },
        {
          "output_type": "execute_result",
          "data": {
            "text/plain": [
              "Text(0.5, 1.0, 'Production')"
            ]
          },
          "metadata": {},
          "execution_count": 44
        },
        {
          "output_type": "display_data",
          "data": {
            "text/plain": [
              "<Figure size 432x288 with 1 Axes>"
            ],
            "image/png": "[encoded data removed]"
          },
          "metadata": {}
        }
      ]
    },
    {
      "cell_type": "markdown",
      "source": [
        "# **2) Bar Graphs**\n",
        "When you have categorical data, you can represent it with a bar graph. A bar graph plots data with the help of bars, which represent value on the y-axis and category on the x-axis. Bar graphs use bars with varying heights to show the data which belongs to a specific category.\n"
      ],
      "metadata": {
        "id": "cyuhepbKM2Hf"
      }
    },
    {
      "cell_type": "code",
      "source": [
        "#data = df[df]\n",
        "top_10_Population = countries_info.sort_values('Population', ascending=False).head(10)\n",
        "top_10_Population "
      ],
      "metadata": {
        "colab": {
          "base_uri": "https://localhost:8080/",
          "height": 363
        },
        "id": "gFk5X1Muo3kb",
        "outputId": "1938db56-83e2-43a5-a087-a5bc8ea979a5"
      },
      "execution_count": 45,
      "outputs": [
        {
          "output_type": "execute_result",
          "data": {
            "text/plain": [
              "            Country                               Region  Population  \\\n",
              "42           China         ASIA (EX. NEAR EAST)           1313973713   \n",
              "94           India         ASIA (EX. NEAR EAST)           1095351995   \n",
              "214  United States   NORTHERN AMERICA                      298444215   \n",
              "95       Indonesia         ASIA (EX. NEAR EAST)            245452739   \n",
              "27          Brazil               LATIN AMER. & CARIB       188078227   \n",
              "156       Pakistan         ASIA (EX. NEAR EAST)            165803560   \n",
              "16      Bangladesh         ASIA (EX. NEAR EAST)            147365352   \n",
              "152        Nigeria   SUB-SAHARAN AFRICA                    131859731   \n",
              "103          Japan         ASIA (EX. NEAR EAST)            127463611   \n",
              "135         Mexico               LATIN AMER. & CARIB       107449525   \n",
              "\n",
              "     pop_density  inf-mort  GDP ($ per capita)  literacy  birthrate  deathrate  \n",
              "42         136.9     24.18              5000.0      90.9      13.25       6.97  \n",
              "94         333.2     56.29              2900.0      59.5      22.01       8.18  \n",
              "214         31.0      6.50             37800.0      97.0      14.14       8.26  \n",
              "95         127.9     35.60              3200.0      87.9      20.34       6.25  \n",
              "27          22.1     29.61              7600.0      86.4      16.56       6.17  \n",
              "156        206.2     72.44              2100.0      45.7      29.74       8.23  \n",
              "16        1023.4     62.60              1900.0      43.1      29.80       8.27  \n",
              "152        142.7     98.80               900.0      68.0      40.43      16.94  \n",
              "103        337.4      3.26             28200.0      99.0       9.37       9.16  \n",
              "135         54.5     20.91              9000.0      92.2      20.69       4.74  "
            ],
            "text/html": [
              "\n",
              "  <div id=\"df-8e630d8b-b730-4c4f-b2a9-2ea81d529941\">\n",
              "    <div class=\"colab-df-container\">\n",
              "      <div>\n",
              "<style scoped>\n",
              "    .dataframe tbody tr th:only-of-type {\n",
              "        vertical-align: middle;\n",
              "    }\n",
              "\n",
              "    .dataframe tbody tr th {\n",
              "        vertical-align: top;\n",
              "    }\n",
              "\n",
              "    .dataframe thead th {\n",
              "        text-align: right;\n",
              "    }\n",
              "</style>\n",
              "<table border=\"1\" class=\"dataframe\">\n",
              "  <thead>\n",
              "    <tr style=\"text-align: right;\">\n",
              "      <th></th>\n",
              "      <th>Country</th>\n",
              "      <th>Region</th>\n",
              "      <th>Population</th>\n",
              "      <th>pop_density</th>\n",
              "      <th>inf-mort</th>\n",
              "      <th>GDP ($ per capita)</th>\n",
              "      <th>literacy</th>\n",
              "      <th>birthrate</th>\n",
              "      <th>deathrate</th>\n",
              "    </tr>\n",
              "  </thead>\n",
              "  <tbody>\n",
              "    <tr>\n",
              "      <th>42</th>\n",
              "      <td>China</td>\n",
              "      <td>ASIA (EX. NEAR EAST)</td>\n",
              "      <td>1313973713</td>\n",
              "      <td>136.9</td>\n",
              "      <td>24.18</td>\n",
              "      <td>5000.0</td>\n",
              "      <td>90.9</td>\n",
              "      <td>13.25</td>\n",
              "      <td>6.97</td>\n",
              "    </tr>\n",
              "    <tr>\n",
              "      <th>94</th>\n",
              "      <td>India</td>\n",
              "      <td>ASIA (EX. NEAR EAST)</td>\n",
              "      <td>1095351995</td>\n",
              "      <td>333.2</td>\n",
              "      <td>56.29</td>\n",
              "      <td>2900.0</td>\n",
              "      <td>59.5</td>\n",
              "      <td>22.01</td>\n",
              "      <td>8.18</td>\n",
              "    </tr>\n",
              "    <tr>\n",
              "      <th>214</th>\n",
              "      <td>United States</td>\n",
              "      <td>NORTHERN AMERICA</td>\n",
              "      <td>298444215</td>\n",
              "      <td>31.0</td>\n",
              "      <td>6.50</td>\n",
              "      <td>37800.0</td>\n",
              "      <td>97.0</td>\n",
              "      <td>14.14</td>\n",
              "      <td>8.26</td>\n",
              "    </tr>\n",
              "    <tr>\n",
              "      <th>95</th>\n",
              "      <td>Indonesia</td>\n",
              "      <td>ASIA (EX. NEAR EAST)</td>\n",
              "      <td>245452739</td>\n",
              "      <td>127.9</td>\n",
              "      <td>35.60</td>\n",
              "      <td>3200.0</td>\n",
              "      <td>87.9</td>\n",
              "      <td>20.34</td>\n",
              "      <td>6.25</td>\n",
              "    </tr>\n",
              "    <tr>\n",
              "      <th>27</th>\n",
              "      <td>Brazil</td>\n",
              "      <td>LATIN AMER. &amp; CARIB</td>\n",
              "      <td>188078227</td>\n",
              "      <td>22.1</td>\n",
              "      <td>29.61</td>\n",
              "      <td>7600.0</td>\n",
              "      <td>86.4</td>\n",
              "      <td>16.56</td>\n",
              "      <td>6.17</td>\n",
              "    </tr>\n",
              "    <tr>\n",
              "      <th>156</th>\n",
              "      <td>Pakistan</td>\n",
              "      <td>ASIA (EX. NEAR EAST)</td>\n",
              "      <td>165803560</td>\n",
              "      <td>206.2</td>\n",
              "      <td>72.44</td>\n",
              "      <td>2100.0</td>\n",
              "      <td>45.7</td>\n",
              "      <td>29.74</td>\n",
              "      <td>8.23</td>\n",
              "    </tr>\n",
              "    <tr>\n",
              "      <th>16</th>\n",
              "      <td>Bangladesh</td>\n",
              "      <td>ASIA (EX. NEAR EAST)</td>\n",
              "      <td>147365352</td>\n",
              "      <td>1023.4</td>\n",
              "      <td>62.60</td>\n",
              "      <td>1900.0</td>\n",
              "      <td>43.1</td>\n",
              "      <td>29.80</td>\n",
              "      <td>8.27</td>\n",
              "    </tr>\n",
              "    <tr>\n",
              "      <th>152</th>\n",
              "      <td>Nigeria</td>\n",
              "      <td>SUB-SAHARAN AFRICA</td>\n",
              "      <td>131859731</td>\n",
              "      <td>142.7</td>\n",
              "      <td>98.80</td>\n",
              "      <td>900.0</td>\n",
              "      <td>68.0</td>\n",
              "      <td>40.43</td>\n",
              "      <td>16.94</td>\n",
              "    </tr>\n",
              "    <tr>\n",
              "      <th>103</th>\n",
              "      <td>Japan</td>\n",
              "      <td>ASIA (EX. NEAR EAST)</td>\n",
              "      <td>127463611</td>\n",
              "      <td>337.4</td>\n",
              "      <td>3.26</td>\n",
              "      <td>28200.0</td>\n",
              "      <td>99.0</td>\n",
              "      <td>9.37</td>\n",
              "      <td>9.16</td>\n",
              "    </tr>\n",
              "    <tr>\n",
              "      <th>135</th>\n",
              "      <td>Mexico</td>\n",
              "      <td>LATIN AMER. &amp; CARIB</td>\n",
              "      <td>107449525</td>\n",
              "      <td>54.5</td>\n",
              "      <td>20.91</td>\n",
              "      <td>9000.0</td>\n",
              "      <td>92.2</td>\n",
              "      <td>20.69</td>\n",
              "      <td>4.74</td>\n",
              "    </tr>\n",
              "  </tbody>\n",
              "</table>\n",
              "</div>\n",
              "      <button class=\"colab-df-convert\" onclick=\"convertToInteractive('df-8e630d8b-b730-4c4f-b2a9-2ea81d529941')\"\n",
              "              title=\"Convert this dataframe to an interactive table.\"\n",
              "              style=\"display:none;\">\n",
              "        \n",
              "  <svg xmlns=\"http://www.w3.org/2000/svg\" height=\"24px\"viewBox=\"0 0 24 24\"\n",
              "       width=\"24px\">\n",
              "    <path d=\"M0 0h24v24H0V0z\" fill=\"none\"/>\n",
              "    <path d=\"M18.56 5.44l.94 2.06.94-2.06 2.06-.94-2.06-.94-.94-2.06-.94 2.06-2.06.94zm-11 1L8.5 8.5l.94-2.06 2.06-.94-2.06-.94L8.5 2.5l-.94 2.06-2.06.94zm10 10l.94 2.06.94-2.06 2.06-.94-2.06-.94-.94-2.06-.94 2.06-2.06.94z\"/><path d=\"M17.41 7.96l-1.37-1.37c-.4-.4-.92-.59-1.43-.59-.52 0-1.04.2-1.43.59L10.3 9.45l-7.72 7.72c-.78.78-.78 2.05 0 2.83L4 21.41c.39.39.9.59 1.41.59.51 0 1.02-.2 1.41-.59l7.78-7.78 2.81-2.81c.8-.78.8-2.07 0-2.86zM5.41 20L4 18.59l7.72-7.72 1.47 1.35L5.41 20z\"/>\n",
              "  </svg>\n",
              "      </button>\n",
              "      \n",
              "  <style>\n",
              "    .colab-df-container {\n",
              "      display:flex;\n",
              "      flex-wrap:wrap;\n",
              "      gap: 12px;\n",
              "    }\n",
              "\n",
              "    .colab-df-convert {\n",
              "      background-color: #E8F0FE;\n",
              "      border: none;\n",
              "      border-radius: 50%;\n",
              "      cursor: pointer;\n",
              "      display: none;\n",
              "      fill: #1967D2;\n",
              "      height: 32px;\n",
              "      padding: 0 0 0 0;\n",
              "      width: 32px;\n",
              "    }\n",
              "\n",
              "    .colab-df-convert:hover {\n",
              "      background-color: #E2EBFA;\n",
              "      box-shadow: 0px 1px 2px rgba(60, 64, 67, 0.3), 0px 1px 3px 1px rgba(60, 64, 67, 0.15);\n",
              "      fill: #174EA6;\n",
              "    }\n",
              "\n",
              "    [theme=dark] .colab-df-convert {\n",
              "      background-color: #3B4455;\n",
              "      fill: #D2E3FC;\n",
              "    }\n",
              "\n",
              "    [theme=dark] .colab-df-convert:hover {\n",
              "      background-color: #434B5C;\n",
              "      box-shadow: 0px 1px 3px 1px rgba(0, 0, 0, 0.15);\n",
              "      filter: drop-shadow(0px 1px 2px rgba(0, 0, 0, 0.3));\n",
              "      fill: #FFFFFF;\n",
              "    }\n",
              "  </style>\n",
              "\n",
              "      <script>\n",
              "        const buttonEl =\n",
              "          document.querySelector('#df-8e630d8b-b730-4c4f-b2a9-2ea81d529941 button.colab-df-convert');\n",
              "        buttonEl.style.display =\n",
              "          google.colab.kernel.accessAllowed ? 'block' : 'none';\n",
              "\n",
              "        async function convertToInteractive(key) {\n",
              "          const element = document.querySelector('#df-8e630d8b-b730-4c4f-b2a9-2ea81d529941');\n",
              "          const dataTable =\n",
              "            await google.colab.kernel.invokeFunction('convertToInteractive',\n",
              "                                                     [key], {});\n",
              "          if (!dataTable) return;\n",
              "\n",
              "          const docLinkHtml = 'Like what you see? Visit the ' +\n",
              "            '<a target=\"_blank\" href=https://colab.research.google.com/notebooks/data_table.ipynb>data table notebook</a>'\n",
              "            + ' to learn more about interactive tables.';\n",
              "          element.innerHTML = '';\n",
              "          dataTable['output_type'] = 'display_data';\n",
              "          await google.colab.output.renderOutput(dataTable, element);\n",
              "          const docLink = document.createElement('div');\n",
              "          docLink.innerHTML = docLinkHtml;\n",
              "          element.appendChild(docLink);\n",
              "        }\n",
              "      </script>\n",
              "    </div>\n",
              "  </div>\n",
              "  "
            ]
          },
          "metadata": {},
          "execution_count": 45
        }
      ]
    },
    {
      "cell_type": "markdown",
      "source": [
        "**Using matplotlib**"
      ],
      "metadata": {
        "id": "gzuVBO03qaAq"
      }
    },
    {
      "cell_type": "code",
      "source": [
        "plt.bar(top_10_Population['Country'], top_10_Population['Population'])\n",
        "plt.xlabel('Top_10_Countries');\n",
        "plt.ylabel('Population');\n",
        "plt.xticks(rotation=90);\n"
      ],
      "metadata": {
        "colab": {
          "base_uri": "https://localhost:8080/",
          "height": 352
        },
        "id": "oSK3cSAGyCsH",
        "outputId": "7bb0faaa-9fe5-4600-ae1c-db1047e7b365"
      },
      "execution_count": 47,
      "outputs": [
        {
          "output_type": "display_data",
          "data": {
            "text/plain": [
              "<Figure size 432x288 with 1 Axes>"
            ],
            "image/png": "[encoded data removed]"
          },
          "metadata": {}
        }
      ]
    },
    {
      "cell_type": "markdown",
      "source": [
        "**Using Seaborn**"
      ],
      "metadata": {
        "id": "a9Ilenn8qi9f"
      }
    },
    {
      "cell_type": "code",
      "source": [
        "sns.barplot(data=top_10_Population, \\\n",
        "            x = 'Country',\n",
        "            y = 'Population')\n",
        "plt.xlabel('Top_10_Countries')\n",
        "plt.ylabel('Population')\n",
        "plt.xticks(rotation=90)"
      ],
      "metadata": {
        "colab": {
          "base_uri": "https://localhost:8080/",
          "height": 387
        },
        "id": "70a3fgVBzZht",
        "outputId": "8a208f9c-d0ca-44ea-c334-a32a67acd6f8"
      },
      "execution_count": 48,
      "outputs": [
        {
          "output_type": "execute_result",
          "data": {
            "text/plain": [
              "(array([0, 1, 2, 3, 4, 5, 6, 7, 8, 9]),\n",
              " <a list of 10 Text major ticklabel objects>)"
            ]
          },
          "metadata": {},
          "execution_count": 48
        },
        {
          "output_type": "display_data",
          "data": {
            "text/plain": [
              "<Figure size 432x288 with 1 Axes>"
            ],
            "image/png": "[encoded data removed]"
          },
          "metadata": {}
        }
      ]
    },
    {
      "cell_type": "markdown",
      "source": [
        "# **3) Histograms**\n",
        "A Histogram is a bar representation of data  that varies over a range. It plots the height of the data belonging to a range along the y-axis and the range along the x-axis. Histograms are used to plot data over a range of values. They use a bar representation to show the data belonging to each range. "
      ],
      "metadata": {
        "id": "R9lg9QEOpmoq"
      }
    },
    {
      "cell_type": "markdown",
      "source": [
        "**Using Matplotlib**"
      ],
      "metadata": {
        "id": "Gyuoy567yeoz"
      }
    },
    {
      "cell_type": "code",
      "source": [
        "plt.hist(countries_info['GDP ($ per capita)'], bins=20)\n",
        "plt.xlabel('GDP ($ per capita)')\n",
        "plt.title('GDP distribution acros the world')"
      ],
      "metadata": {
        "colab": {
          "base_uri": "https://localhost:8080/",
          "height": 369
        },
        "id": "qHeBcbP3q_7-",
        "outputId": "7f41895c-0705-428b-81e4-c93feb03c92e"
      },
      "execution_count": 49,
      "outputs": [
        {
          "output_type": "execute_result",
          "data": {
            "text/plain": [
              "(array([57., 22., 21., 13., 10.,  8.,  4.,  3.,  6.,  5.,  3.,  3.,  3.,\n",
              "         1.,  7.,  6.,  2.,  1.,  1.,  3.]),\n",
              " array([  500.,  2365.,  4230.,  6095.,  7960.,  9825., 11690., 13555.,\n",
              "        15420., 17285., 19150., 21015., 22880., 24745., 26610., 28475.,\n",
              "        30340., 32205., 34070., 35935., 37800.]),\n",
              " <a list of 20 Patch objects>)"
            ]
          },
          "metadata": {},
          "execution_count": 49
        },
        {
          "output_type": "display_data",
          "data": {
            "text/plain": [
              "<Figure size 432x288 with 1 Axes>"
            ],
            "image/png": "[encoded data removed]"
          },
          "metadata": {}
        }
      ]
    },
    {
      "cell_type": "markdown",
      "source": [
        "**Using Seaborn**"
      ],
      "metadata": {
        "id": "M5JMKe4Zyj9V"
      }
    },
    {
      "cell_type": "code",
      "source": [
        "sns.histplot(data = countries_info, x= countries_info['GDP ($ per capita)'], hue = df['Region'], bins=20 )\n",
        "plt.xlabel('GDP ($ per capita)')\n",
        "plt.title('GDP distribution acros the world')"
      ],
      "metadata": {
        "colab": {
          "base_uri": "https://localhost:8080/",
          "height": 296
        },
        "id": "j8lQAyOtyshy",
        "outputId": "182a83ba-7adf-4514-a1e2-39802b90c2c9"
      },
      "execution_count": 50,
      "outputs": [
        {
          "output_type": "execute_result",
          "data": {
            "text/plain": [
              "<matplotlib.axes._subplots.AxesSubplot at 0x7f29018db550>"
            ]
          },
          "metadata": {},
          "execution_count": 50
        },
        {
          "output_type": "display_data",
          "data": {
            "text/plain": [
              "<Figure size 432x288 with 1 Axes>"
            ],
            "image/png": "[encoded data removed]"
          },
          "metadata": {}
        }
      ]
    },
    {
      "cell_type": "markdown",
      "source": [
        "# **4) Scatter Plots**\n",
        "\n",
        "Scatter plots are used when we have to plot two or more variables present at different coordinates. The data is scattered all over the graph and is not confined to a range. "
      ],
      "metadata": {
        "id": "riafsQTpy6nS"
      }
    },
    {
      "cell_type": "markdown",
      "source": [
        "**Using Matplotlib**"
      ],
      "metadata": {
        "id": "HksGc95jzDV7"
      }
    },
    {
      "cell_type": "code",
      "source": [
        "plt.scatter(x=countries_info['GDP ($ per capita)'], y=countries_info['deathrate'])\n",
        "plt.xlabel('GDP ($ per capita)')\n",
        "plt.ylabel('Death Rate')\n",
        "plt.title('Death Rate vs GDP')"
      ],
      "metadata": {
        "id": "ikfIM0JXzBiQ",
        "colab": {
          "base_uri": "https://localhost:8080/",
          "height": 312
        },
        "outputId": "35d25fa4-d4e5-48f8-9171-00a232f3b6b0"
      },
      "execution_count": 57,
      "outputs": [
        {
          "output_type": "execute_result",
          "data": {
            "text/plain": [
              "Text(0.5, 1.0, 'Death Rate vs GDP')"
            ]
          },
          "metadata": {},
          "execution_count": 57
        },
        {
          "output_type": "display_data",
          "data": {
            "text/plain": [
              "<Figure size 432x288 with 1 Axes>"
            ],
            "image/png": "[encoded data removed]"
          },
          "metadata": {}
        }
      ]
    },
    {
      "cell_type": "markdown",
      "source": [
        "**Using Seaborn**"
      ],
      "metadata": {
        "id": "vUkGfdBCzEGQ"
      }
    },
    {
      "cell_type": "code",
      "source": [
        "sns.scatterplot(data=countries_info,\\\n",
        "                x= 'GDP ($ per capita)',\n",
        "                y= 'deathrate',\n",
        "                hue = 'Region')\n",
        "plt.xlabel('GDP ($ per capita)')\n",
        "plt.ylabel('Death Rate')\n",
        "plt.title('Death Rate vs GDP')\n",
        "plt.legend(loc=(1.04,0))"
      ],
      "metadata": {
        "id": "bTpjyJdzzEoz",
        "colab": {
          "base_uri": "https://localhost:8080/",
          "height": 312
        },
        "outputId": "e7cfcc13-79c1-4b38-820e-7761e74e04e6"
      },
      "execution_count": 59,
      "outputs": [
        {
          "output_type": "execute_result",
          "data": {
            "text/plain": [
              "<matplotlib.legend.Legend at 0x7f29033f6910>"
            ]
          },
          "metadata": {},
          "execution_count": 59
        },
        {
          "output_type": "display_data",
          "data": {
            "text/plain": [
              "<Figure size 432x288 with 1 Axes>"
            ],
            "image/png": "[encoded data removed]"
          },
          "metadata": {}
        }
      ]
    },
    {
      "cell_type": "markdown",
      "source": [
        "# **Conclusion**"
      ],
      "metadata": {
        "id": "mGadkLS3bbrO"
      }
    }
  ]
}